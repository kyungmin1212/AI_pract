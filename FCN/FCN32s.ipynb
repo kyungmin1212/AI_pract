{
  "nbformat": 4,
  "nbformat_minor": 0,
  "metadata": {
    "colab": {
      "name": "FCN32s.ipynb",
      "provenance": []
    },
    "kernelspec": {
      "name": "python3",
      "display_name": "Python 3"
    },
    "language_info": {
      "name": "python"
    }
  },
  "cells": [
    {
      "cell_type": "code",
      "execution_count": 2,
      "metadata": {
        "id": "jokanB2tEJfS"
      },
      "outputs": [],
      "source": [
        "import torch\n",
        "import torch.nn as nn"
      ]
    },
    {
      "cell_type": "code",
      "source": [
        "class FCN32s(nn.Module):\n",
        "  def __init__(self,num_classes=21):\n",
        "    super(FCN32s,self).__init__()\n",
        "\n",
        "    def CBR(in_channels,out_channels,kernel_size=3,stride=1,padding=1):\n",
        "      return nn.Sequential(nn.Conv2d(in_channels=in_channels,\n",
        "                                     out_channels=out_channels,\n",
        "                                     kernel_size=kernel_size,\n",
        "                                     stride=stride,\n",
        "                                     padding=padding),\n",
        "                           nn.ReLU(inplace=True))\n",
        "    # conv1\n",
        "    self.conv1_1 = CBR(3,64,3,1,1)\n",
        "    self.conv1_2 = CBR(64,64,3,1,1)\n",
        "    self.pool1 = nn.MaxPool2d(2,stride=2,ceil_mode=True)# ceil_mode = True -> if 7x7 input , 4x4 output / ceil_mode = False -> if 7x7 input , 3x3 output\n",
        "\n",
        "    # conv2\n",
        "    self.conv2_1 = CBR(64,128,3,1,1)\n",
        "    self.conv2_2 = CBR(128,128,3,1,1)\n",
        "    self.pool2 = nn.MaxPool2d(2,stride=2,ceil_mode=True)\n",
        "\n",
        "    # conv3\n",
        "    self.conv3_1 = CBR(128,256,3,1,1)\n",
        "    self.conv3_2 = CBR(256,256,3,1,1)\n",
        "    self.conv3_3 = CBR(256,256,3,1,1)\n",
        "    self.pool3 = nn.MaxPool2d(2,stride=2,ceil_mode=True)\n",
        "\n",
        "    # conv4\n",
        "    self.conv4_1 = CBR(256,512,3,1,1)\n",
        "    self.conv4_2 = CBR(512,512,3,1,1)\n",
        "    self.conv4_3 = CBR(512,512,3,1,1)\n",
        "    self.pool4 = nn.MaxPool2d(2,stride=2,ceil_mode=True)\n",
        "\n",
        "    # conv5\n",
        "    self.conv5_1 = CBR(512,512,3,1,1)\n",
        "    self.conv5_2 = CBR(512,512,3,1,1)\n",
        "    self.conv5_3 = CBR(512,512,3,1,1)\n",
        "    self.pool5 = nn.MaxPool2d(2,stride=2,ceil_mode=True)\n",
        "\n",
        "    # fc6\n",
        "    self.fc6 = CBR(512,4096,1,1,0)\n",
        "    self.drop6 = nn.Dropout2d()\n",
        "\n",
        "    # fc7\n",
        "    self.fc7 = CBR(4096,4096,1,1,0)\n",
        "    self.drop7 = nn.Dropout2d()\n",
        "\n",
        "    # Score\n",
        "    self.score_fr = nn.Conv2d(4096,num_classes,kernel_size=1,stride=1,padding=0)\n",
        "\n",
        "    # UPScore using deconv\n",
        "    self.upscore32 = nn.ConvTranspose2d(num_classes,num_classes,kernel_size=64,stride=32,padding=16)\n",
        "\n",
        "  def forward(self, x): # if x : 224x224\n",
        "      h = self.conv1_1(x)\n",
        "      h = self.conv1_2(h)\n",
        "      h = self.pool1(h) # x: 112x112\n",
        "\n",
        "      h = self.conv2_1(h)\n",
        "      h = self.conv2_2(h)\n",
        "      h = self.pool2(h) # x: 56x56\n",
        "\n",
        "      h = self.conv3_1(h)\n",
        "      h = self.conv3_2(h)\n",
        "      h = self.conv3_3(h)        \n",
        "      h = self.pool3(h) # x: 28x28\n",
        "\n",
        "      h = self.conv4_1(h)\n",
        "      h = self.conv4_2(h)\n",
        "      h = self.conv4_3(h)        \n",
        "      h = self.pool4(h) # x: 14x14\n",
        "\n",
        "      h = self.conv5_1(h)\n",
        "      h = self.conv5_2(h)\n",
        "      h = self.conv5_3(h)        \n",
        "      h = self.pool5(h) # x: 7x7\n",
        "      \n",
        "      h = self.fc6(h)\n",
        "      h = self.drop6(h) # x: 7x7\n",
        "\n",
        "      h = self.fc7(h)\n",
        "      h = self.drop7(h) # x: 7x7\n",
        "      \n",
        "      h = self.score_fr(h)\n",
        "      upscore32 = self.upscore32(h)  # 224x224\n",
        "      \n",
        "      return upscore32"
      ],
      "metadata": {
        "id": "x_cXgQGVEOOH"
      },
      "execution_count": 18,
      "outputs": []
    },
    {
      "cell_type": "code",
      "source": [
        "# 구현된 model에 임의의 input을 넣어 output이 잘 나오는지 test\n",
        "\n",
        "model = FCN32s(num_classes=12)\n",
        "x = torch.randn((10, 3, 512, 512))\n",
        "print(\"input shape : \", x.shape)\n",
        "out = model(x)\n",
        "print(\"output shape : \", out.size())"
      ],
      "metadata": {
        "colab": {
          "base_uri": "https://localhost:8080/"
        },
        "id": "sj9yerI7Evje",
        "outputId": "5b27e3c9-25a8-4ea9-e017-6a7aafcce1c7"
      },
      "execution_count": 19,
      "outputs": [
        {
          "output_type": "stream",
          "name": "stdout",
          "text": [
            "input shape :  torch.Size([10, 3, 512, 512])\n"
          ]
        },
        {
          "output_type": "stream",
          "name": "stderr",
          "text": [
            "/usr/local/lib/python3.7/dist-packages/torch/nn/functional.py:780: UserWarning: Note that order of the arguments: ceil_mode and return_indices will changeto match the args list in nn.MaxPool2d in a future release.\n",
            "  warnings.warn(\"Note that order of the arguments: ceil_mode and return_indices will change\"\n"
          ]
        },
        {
          "output_type": "stream",
          "name": "stdout",
          "text": [
            "output shape :  torch.Size([10, 12, 512, 512])\n"
          ]
        }
      ]
    },
    {
      "cell_type": "code",
      "source": [
        ""
      ],
      "metadata": {
        "id": "A5ie42mAP9RK"
      },
      "execution_count": null,
      "outputs": []
    }
  ]
}