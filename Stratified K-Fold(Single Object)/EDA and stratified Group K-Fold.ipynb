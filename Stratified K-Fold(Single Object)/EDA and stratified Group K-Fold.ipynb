{
 "cells": [
  {
   "cell_type": "markdown",
   "metadata": {},
   "source": [
    "# 클래스 분포 확인"
   ]
  },
  {
   "cell_type": "code",
   "execution_count": 1,
   "metadata": {},
   "outputs": [
    {
     "name": "stdout",
     "output_type": "stream",
     "text": [
      "          id  gender   race  age                    path\n",
      "0     000001  female  Asian   45  000001_female_Asian_45\n",
      "1     000002  female  Asian   52  000002_female_Asian_52\n",
      "2     000004    male  Asian   54    000004_male_Asian_54\n",
      "3     000005  female  Asian   58  000005_female_Asian_58\n",
      "4     000006  female  Asian   59  000006_female_Asian_59\n",
      "...      ...     ...    ...  ...                     ...\n",
      "2695  006954    male  Asian   19    006954_male_Asian_19\n",
      "2696  006955    male  Asian   19    006955_male_Asian_19\n",
      "2697  006956    male  Asian   19    006956_male_Asian_19\n",
      "2698  006957    male  Asian   20    006957_male_Asian_20\n",
      "2699  006959    male  Asian   19    006959_male_Asian_19\n",
      "\n",
      "[2700 rows x 5 columns]\n"
     ]
    }
   ],
   "source": [
    "import pandas as pd\n",
    "\n",
    "df = pd.read_csv(\"./data/train/train.csv\")\n",
    "print(df)"
   ]
  },
  {
   "cell_type": "code",
   "execution_count": 2,
   "metadata": {},
   "outputs": [
    {
     "name": "stdout",
     "output_type": "stream",
     "text": [
      "          id  gender   race  age                    path  label\n",
      "0     000001  female  Asian   45  000001_female_Asian_45      0\n",
      "1     000002  female  Asian   52  000002_female_Asian_52      0\n",
      "2     000004    male  Asian   54    000004_male_Asian_54      0\n",
      "3     000005  female  Asian   58  000005_female_Asian_58      0\n",
      "4     000006  female  Asian   59  000006_female_Asian_59      0\n",
      "...      ...     ...    ...  ...                     ...    ...\n",
      "2695  006954    male  Asian   19    006954_male_Asian_19      0\n",
      "2696  006955    male  Asian   19    006955_male_Asian_19      0\n",
      "2697  006956    male  Asian   19    006956_male_Asian_19      0\n",
      "2698  006957    male  Asian   20    006957_male_Asian_20      0\n",
      "2699  006959    male  Asian   19    006959_male_Asian_19      0\n",
      "\n",
      "[2700 rows x 6 columns]\n"
     ]
    }
   ],
   "source": [
    "df['label']=0\n",
    "df['age']==df['age'].astype(int)\n",
    "print(df)"
   ]
  },
  {
   "cell_type": "code",
   "execution_count": 3,
   "metadata": {},
   "outputs": [
    {
     "name": "stdout",
     "output_type": "stream",
     "text": [
      "          id  gender   race  age                    path  label\n",
      "0     000001  female  Asian   45  000001_female_Asian_45      4\n",
      "1     000002  female  Asian   52  000002_female_Asian_52      4\n",
      "2     000004    male  Asian   54    000004_male_Asian_54      1\n",
      "3     000005  female  Asian   58  000005_female_Asian_58      4\n",
      "4     000006  female  Asian   59  000006_female_Asian_59      4\n",
      "...      ...     ...    ...  ...                     ...    ...\n",
      "2695  006954    male  Asian   19    006954_male_Asian_19      0\n",
      "2696  006955    male  Asian   19    006955_male_Asian_19      0\n",
      "2697  006956    male  Asian   19    006956_male_Asian_19      0\n",
      "2698  006957    male  Asian   20    006957_male_Asian_20      0\n",
      "2699  006959    male  Asian   19    006959_male_Asian_19      0\n",
      "\n",
      "[2700 rows x 6 columns]\n"
     ]
    }
   ],
   "source": [
    "df.loc[(df['gender']=='male')&(df['age']<30),'label']=0\n",
    "df.loc[(df['gender']=='male')&(df['age']>=30) & (df['age']<60),'label']=1\n",
    "df.loc[(df['gender']=='male')&(df['age']>=60),'label']=2\n",
    "df.loc[(df['gender']=='female')&(df['age']<30),'label']=3\n",
    "df.loc[(df['gender']=='female')&(df['age']>=30) & (df['age']<60),'label']=4\n",
    "df.loc[(df['gender']=='female')&(df['age']>=60),'label']=5\n",
    "print(df)"
   ]
  },
  {
   "cell_type": "code",
   "execution_count": 4,
   "metadata": {},
   "outputs": [
    {
     "name": "stdout",
     "output_type": "stream",
     "text": [
      "       count\n",
      "label       \n",
      "0        549\n",
      "1        410\n",
      "2         83\n",
      "3        732\n",
      "4        817\n",
      "5        109\n"
     ]
    }
   ],
   "source": [
    "df['count']=1\n",
    "df_label=df[['label','count']].copy()\n",
    "df_label=df_label.groupby('label').count()\n",
    "print(df_label)"
   ]
  },
  {
   "cell_type": "code",
   "execution_count": 5,
   "metadata": {},
   "outputs": [
    {
     "data": {
      "text/plain": [
       "549"
      ]
     },
     "execution_count": 5,
     "metadata": {},
     "output_type": "execute_result"
    }
   ],
   "source": [
    "df_label.loc[0,\"count\"]"
   ]
  },
  {
   "cell_type": "code",
   "execution_count": 6,
   "metadata": {},
   "outputs": [
    {
     "name": "stdout",
     "output_type": "stream",
     "text": [
      "                        path  label\n",
      "0     000001_female_Asian_45      4\n",
      "1     000002_female_Asian_52      4\n",
      "2       000004_male_Asian_54      1\n",
      "3     000005_female_Asian_58      4\n",
      "4     000006_female_Asian_59      4\n",
      "...                      ...    ...\n",
      "2695    006954_male_Asian_19      0\n",
      "2696    006955_male_Asian_19      0\n",
      "2697    006956_male_Asian_19      0\n",
      "2698    006957_male_Asian_20      0\n",
      "2699    006959_male_Asian_19      0\n",
      "\n",
      "[2700 rows x 2 columns]\n"
     ]
    }
   ],
   "source": [
    "df_folds = df[['path','label']].copy()\n",
    "print(df_folds)\n"
   ]
  },
  {
   "cell_type": "code",
   "execution_count": 7,
   "metadata": {},
   "outputs": [
    {
     "name": "stdout",
     "output_type": "stream",
     "text": [
      "                     path  label\n",
      "0  000001_female_Asian_45      4\n"
     ]
    }
   ],
   "source": [
    "print(df_folds[df_folds.loc[:,'path']=='000001_female_Asian_45'])"
   ]
  },
  {
   "cell_type": "code",
   "execution_count": 8,
   "metadata": {},
   "outputs": [
    {
     "name": "stdout",
     "output_type": "stream",
     "text": [
      "['000001_female_Asian_45', '000002_female_Asian_52', '000004_male_Asian_54', '000005_female_Asian_58', '000006_female_Asian_59', '000007_female_Asian_58', '000008_female_Asian_58', '000009_female_Asian_56', '000010_female_Asian_58', '000012_male_Asian_57']\n"
     ]
    }
   ],
   "source": [
    "print(list(df_folds['path'])[:10])"
   ]
  },
  {
   "cell_type": "markdown",
   "metadata": {},
   "source": [
    "# stratified Group K-Fold"
   ]
  },
  {
   "cell_type": "code",
   "execution_count": 9,
   "metadata": {},
   "outputs": [],
   "source": [
    "from collections import defaultdict\n",
    "import numpy as np\n",
    "import random\n",
    "\n",
    "seed=2022\n",
    "k=5\n",
    "\n",
    "path_list=list(df_folds['path'])\n",
    "label_list=list(df_folds['label'])\n",
    "path_to_label=dict()\n",
    "\n",
    "for a,b in zip(path_list,label_list):\n",
    "    path_to_label[a]=b\n",
    "    \n",
    "labels_num = 6\n",
    "class_counts_per_fold = defaultdict(lambda:np.zeros(labels_num))\n",
    "\n",
    "def eval_class_counts_per_fold(image_path,fold,k):\n",
    "    class_counts_per_fold[fold][path_to_label[image_path]] += 1\n",
    "    std_per_class=[]\n",
    "    for class_number in range(labels_num):\n",
    "        class_std = np.std([class_counts_per_fold[i][class_number]/df_label.loc[class_number,'count'] for i in range(k)])\n",
    "        std_per_class.append(class_std)\n",
    "    class_counts_per_fold[fold][path_to_label[image_path]] -= 1\n",
    "    \n",
    "    return np.mean(std_per_class)\n",
    "\n",
    "\n",
    "image_names_per_fold = defaultdict(set)\n",
    "\n",
    "random.Random(seed).shuffle(path_list)\n",
    "\n",
    "for image_path in path_list:\n",
    "    best_fold = None\n",
    "    min_eval = None\n",
    "    for i in range(k):\n",
    "        fold_eval = eval_class_counts_per_fold(image_path,i,k)\n",
    "        if min_eval is None or fold_eval < min_eval:\n",
    "            min_eval = fold_eval\n",
    "            best_fold = i\n",
    "    class_counts_per_fold[best_fold][path_to_label[image_path]]+=1\n",
    "    image_names_per_fold[best_fold].add(image_path)\n",
    "\n",
    "all_image_names = set(path_list)\n",
    "\n",
    "k_fold_train_test_list=[]\n",
    "\n",
    "for i in range(k):\n",
    "    train_image_names = all_image_names - image_names_per_fold[i]\n",
    "    test_image_names = image_names_per_fold[i]\n",
    "    \n",
    "    k_fold_train_test_list.append((list(train_image_names),list(test_image_names)))\n",
    "    "
   ]
  },
  {
   "cell_type": "code",
   "execution_count": 10,
   "metadata": {},
   "outputs": [
    {
     "name": "stdout",
     "output_type": "stream",
     "text": [
      "fold0 train 개수 : 2158, valid 개수 : 542\n",
      "fold1 train 개수 : 2158, valid 개수 : 542\n",
      "fold2 train 개수 : 2160, valid 개수 : 540\n",
      "fold3 train 개수 : 2161, valid 개수 : 539\n",
      "fold4 train 개수 : 2163, valid 개수 : 537\n"
     ]
    }
   ],
   "source": [
    "print(f'fold0 train 개수 : {len(k_fold_train_test_list[0][0])}, valid 개수 : {len(k_fold_train_test_list[0][1])}')\n",
    "print(f'fold1 train 개수 : {len(k_fold_train_test_list[1][0])}, valid 개수 : {len(k_fold_train_test_list[1][1])}')\n",
    "print(f'fold2 train 개수 : {len(k_fold_train_test_list[2][0])}, valid 개수 : {len(k_fold_train_test_list[2][1])}')\n",
    "print(f'fold3 train 개수 : {len(k_fold_train_test_list[3][0])}, valid 개수 : {len(k_fold_train_test_list[3][1])}')\n",
    "print(f'fold4 train 개수 : {len(k_fold_train_test_list[4][0])}, valid 개수 : {len(k_fold_train_test_list[4][1])}')"
   ]
  },
  {
   "cell_type": "code",
   "execution_count": 11,
   "metadata": {},
   "outputs": [],
   "source": [
    "k_fold={}\n",
    "k_fold[0]=(list(k_fold_train_test_list[0]))\n",
    "k_fold[1]=(list(k_fold_train_test_list[1]))\n",
    "k_fold[2]=(list(k_fold_train_test_list[2]))\n",
    "k_fold[3]=(list(k_fold_train_test_list[3]))\n",
    "k_fold[4]=(list(k_fold_train_test_list[4]))"
   ]
  },
  {
   "cell_type": "code",
   "execution_count": 12,
   "metadata": {},
   "outputs": [],
   "source": [
    "import json\n",
    "\n",
    "with open('stratified_k_fold_dict.json','w') as f:\n",
    "    json.dump(k_fold,f,indent=4)"
   ]
  },
  {
   "cell_type": "code",
   "execution_count": 13,
   "metadata": {},
   "outputs": [
    {
     "name": "stdout",
     "output_type": "stream",
     "text": [
      "[110.  82.  17. 147. 164.  22.] 542.0\n",
      "[110.  82.  17. 147. 164.  22.] 542.0\n",
      "[110.  82.  17. 146. 163.  22.] 540.0\n",
      "[110.  82.  16. 146. 163.  22.] 539.0\n",
      "[109.  82.  16. 146. 163.  21.] 537.0\n"
     ]
    }
   ],
   "source": [
    "# class별로 잘 분류되었는지 확인\n",
    "\n",
    "fold_check=defaultdict(lambda:np.zeros(6))\n",
    "\n",
    "for i in range(k):\n",
    "    train,valid=k_fold[i]\n",
    "    for item in valid:\n",
    "        fold_check[i][path_to_label[item]]+=1\n",
    "    print(fold_check[i],sum(fold_check[i]))"
   ]
  },
  {
   "cell_type": "code",
   "execution_count": null,
   "metadata": {},
   "outputs": [],
   "source": []
  }
 ],
 "metadata": {
  "kernelspec": {
   "display_name": "Python 3",
   "language": "python",
   "name": "python3"
  },
  "language_info": {
   "codemirror_mode": {
    "name": "ipython",
    "version": 3
   },
   "file_extension": ".py",
   "mimetype": "text/x-python",
   "name": "python",
   "nbconvert_exporter": "python",
   "pygments_lexer": "ipython3",
   "version": "3.8.10"
  }
 },
 "nbformat": 4,
 "nbformat_minor": 4
}
