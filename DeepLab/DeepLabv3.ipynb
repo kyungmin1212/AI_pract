{
  "nbformat": 4,
  "nbformat_minor": 0,
  "metadata": {
    "colab": {
      "name": "DeepLabv3.ipynb",
      "provenance": []
    },
    "kernelspec": {
      "name": "python3",
      "display_name": "Python 3"
    },
    "language_info": {
      "name": "python"
    }
  },
  "cells": [
    {
      "cell_type": "code",
      "execution_count": 3,
      "metadata": {
        "id": "E_RuTszr_Mrx"
      },
      "outputs": [],
      "source": [
        "import torch\n",
        "import torch.nn as nn\n",
        "from torch.nn import functional as F\n",
        "\n",
        "def conv3x3_relu(in_ch, out_ch, rate=1):\n",
        "    conv3x3_relu = nn.Sequential(nn.Conv2d(in_ch, \n",
        "                                           out_ch, \n",
        "                                           kernel_size=3, \n",
        "                                           stride=1, \n",
        "                                           padding=rate, \n",
        "                                           dilation=rate),\n",
        "                                 nn.ReLU())\n",
        "    return conv3x3_relu\n",
        "\n",
        "class VGG16(nn.Module):\n",
        "    def __init__(self):\n",
        "        super(VGG16, self).__init__()\n",
        "        self.features = nn.Sequential(conv3x3_relu(3, 64),\n",
        "                                      conv3x3_relu(64, 64),\n",
        "                                      nn.MaxPool2d(3, stride=2, padding=1), # 1/2\n",
        "                                      conv3x3_relu(64, 128),\n",
        "                                      conv3x3_relu(128, 128),\n",
        "                                      nn.MaxPool2d(3, stride=2, padding=1), # 1/2\n",
        "                                      conv3x3_relu(128, 256),\n",
        "                                      conv3x3_relu(256, 256),\n",
        "                                      conv3x3_relu(256, 256),\n",
        "                                      nn.MaxPool2d(3, stride=2, padding=1), # 1/2\n",
        "                                      conv3x3_relu(256, 512),\n",
        "                                      conv3x3_relu(512, 512),\n",
        "                                      conv3x3_relu(512, 512),\n",
        "                                      nn.MaxPool2d(3, stride=1, padding=1), # 마지막 stride=1로 해서 두 layer 크기 유지 \n",
        "                                      # and replace subsequent conv layer r=2\n",
        "                                      conv3x3_relu(512, 512, rate=2),\n",
        "                                      conv3x3_relu(512, 512, rate=2),\n",
        "                                      conv3x3_relu(512, 512, rate=2),\n",
        "                                      nn.MaxPool2d(3, stride=1, padding=1)) # 마지막 stride=1로 해서 두 layer 크기 유지 \n",
        "    \n",
        "        \n",
        "    def forward(self, x):\n",
        "        output = self.features(x)\n",
        "        return output\n",
        "\n",
        "class ASPPConv(nn.Module):\n",
        "    def __init__(self, inplanes, outplanes, kernel_size, padding, dilation):\n",
        "        super(ASPPConv, self).__init__()\n",
        "        self.atrous_conv = nn.Conv2d(inplanes, outplanes, kernel_size=kernel_size,\n",
        "                                            stride=1, padding=padding, dilation=dilation, bias=False)\n",
        "        self.bn = nn.BatchNorm2d(outplanes)\n",
        "        self.relu = nn.ReLU()\n",
        "\n",
        "    def forward(self, x):\n",
        "        x = self.atrous_conv(x)\n",
        "        x = self.bn(x)\n",
        "        output = self.relu(x)\n",
        "        return output\n",
        "\n",
        "class ASPPPooling(nn.Module):\n",
        "    def __init__(self, inplanes, outplanes):\n",
        "        super(ASPPPooling, self).__init__()\n",
        "        self.globalavgpool = nn.AdaptiveAvgPool2d((1, 1))\n",
        "        self.conv = nn.Conv2d(inplanes, outplanes, 1, stride=1, bias=False)\n",
        "        self.bn = nn.BatchNorm2d(outplanes)\n",
        "        self.relu = nn.ReLU()\n",
        "\n",
        "    def forward(self, x):\n",
        "        x = self.globalavgpool(x)\n",
        "        x = self.conv(x)\n",
        "        x = self.bn(x)\n",
        "        output = self.relu(x)\n",
        "        return output\n",
        "\n",
        "\n",
        "class ASPP(nn.Module):\n",
        "    def __init__(self, inplanes, outplanes):\n",
        "        super(ASPP, self).__init__()\n",
        "        dilations = [1, 6, 12, 18]\n",
        "        self.aspp1 = ASPPConv(inplanes, outplanes, 1, padding=0, dilation=dilations[0])\n",
        "        self.aspp2 = ASPPConv(inplanes, outplanes, 3, padding=dilations[1], dilation=dilations[1])\n",
        "        self.aspp3 = ASPPConv(inplanes, outplanes, 3, padding=dilations[2], dilation=dilations[2])\n",
        "        self.aspp4 = ASPPConv(inplanes, outplanes, 3, padding=dilations[3], dilation=dilations[3])\n",
        "        self.global_avg_pool = ASPPPooling(inplanes, outplanes) # 1x1\n",
        "        self.project = nn.Sequential(\n",
        "            nn.Conv2d(outplanes*5, outplanes, 1, bias=False), \n",
        "            nn.BatchNorm2d(outplanes), \n",
        "            nn.ReLU(), \n",
        "            nn.Dropout(0.5)      \n",
        "        )\n",
        "\n",
        "    def forward(self, x):\n",
        "        x1 = self.aspp1(x)\n",
        "        x2 = self.aspp2(x)\n",
        "        x3 = self.aspp3(x)\n",
        "        x4 = self.aspp4(x)\n",
        "        x5 = self.global_avg_pool(x)\n",
        "        x5 = F.interpolate(x5, size=x.size()[2:], mode='bilinear', align_corners=True)\n",
        "        x = torch.cat((x1, x2, x3, x4, x5), dim=1)\n",
        "\n",
        "        output = self.project(x)\n",
        "        return output\n",
        "\n",
        "class DeepLabHead(nn.Sequential):\n",
        "    def __init__(self, in_ch, out_ch, n_classes):\n",
        "        super(DeepLabHead, self).__init__(\n",
        "            ASPP(in_ch, out_ch),\n",
        "            nn.Conv2d(out_ch, out_ch, kernel_size=3, stride=1, padding=1 , bias=False),\n",
        "            nn.BatchNorm2d(out_ch),\n",
        "            nn.ReLU(),\n",
        "            nn.Conv2d(out_ch, n_classes, kernel_size=1, stride=1),\n",
        "        )\n",
        "\n",
        "class DeepLabV3(nn.Sequential):\n",
        "    def __init__(self, n_classes):\n",
        "        super(DeepLabV3, self).__init__()\n",
        "        self.backbone = VGG16()\n",
        "        self.classifier = DeepLabHead(in_ch=512, out_ch=256, n_classes=12)\n",
        "\n",
        "    def forward(self, x): \n",
        "        h = self.backbone(x)\n",
        "        h = self.classifier(h)\n",
        "        output = F.interpolate(h, size=x.shape[2:], mode=\"bilinear\", align_corners=False)\n",
        "        return output"
      ]
    },
    {
      "cell_type": "code",
      "source": [
        "device = \"cuda\" if torch.cuda.is_available() else \"cpu\"   # GPU 사용 가능 여부에 따라 device 정보 저장\n",
        "\n",
        "# 구현된 model에 임의의 input을 넣어 output이 잘 나오는지 test\n",
        "model = DeepLabV3(n_classes=12)\n",
        "\n",
        "x = torch.randn([2, 3, 512, 512])\n",
        "print(\"input shape : \", x.shape)\n",
        "out = model(x).to(device)\n",
        "print(\"output shape : \", out.size())\n",
        "\n",
        "model = model.to(device)"
      ],
      "metadata": {
        "colab": {
          "base_uri": "https://localhost:8080/"
        },
        "id": "P6EOyRSlXj5q",
        "outputId": "587ad7aa-3081-4120-89d9-8a3f79c44890"
      },
      "execution_count": 4,
      "outputs": [
        {
          "output_type": "stream",
          "name": "stdout",
          "text": [
            "input shape :  torch.Size([2, 3, 512, 512])\n",
            "output shape :  torch.Size([2, 12, 512, 512])\n"
          ]
        }
      ]
    },
    {
      "cell_type": "code",
      "source": [
        ""
      ],
      "metadata": {
        "id": "k3a5f54CXm9j"
      },
      "execution_count": null,
      "outputs": []
    }
  ]
}