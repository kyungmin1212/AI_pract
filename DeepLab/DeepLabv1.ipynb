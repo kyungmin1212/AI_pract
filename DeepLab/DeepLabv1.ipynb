{
  "nbformat": 4,
  "nbformat_minor": 0,
  "metadata": {
    "colab": {
      "name": "DeepLabv1.ipynb",
      "provenance": []
    },
    "kernelspec": {
      "name": "python3",
      "display_name": "Python 3"
    },
    "language_info": {
      "name": "python"
    }
  },
  "cells": [
    {
      "cell_type": "code",
      "execution_count": 4,
      "metadata": {
        "id": "S0RggyzirMIv"
      },
      "outputs": [],
      "source": [
        "import torch\n",
        "import torch.nn as nn\n",
        "import torch.nn.functional as F\n",
        "\n",
        "def conv_relu(in_ch,out_ch,size=3,rate=1):\n",
        "  conv_relu = nn.Sequential(nn.Conv2d(in_ch,\n",
        "                                      out_ch,\n",
        "                                      kernel_size=size,\n",
        "                                      stride=1,\n",
        "                                      padding=rate,\n",
        "                                      dilation=rate),\n",
        "                            nn.ReLU())\n",
        "  return conv_relu\n",
        "\n",
        "class VGG16(nn.Module):\n",
        "  def __init__(self):\n",
        "    super(VGG16,self).__init__()\n",
        "    self.features1 = nn.Sequential(conv_relu(3,64,3,1),\n",
        "                                   conv_relu(64,64,3,1),\n",
        "                                   nn.MaxPool2d(3,stride=2,padding=1)) # 1/2 , 3x3 MaxPool 사용 , padding=1을 추가해줘서 MaxPool2d(2,2,0) 과 output size는 동일 (1/2 시켜주는것)\n",
        "    self.features2 = nn.Sequential(conv_relu(64,128,3,1),\n",
        "                                   conv_relu(128,128,3,1),\n",
        "                                   nn.MaxPool2d(3,stride=2,padding=1)) # 1/2\n",
        "    self.features3 = nn.Sequential(conv_relu(128,256,3,1),\n",
        "                                   conv_relu(256,256,3,1),\n",
        "                                   conv_relu(256, 256, 3, 1),\n",
        "                                   nn.MaxPool2d(3,stride=2,padding=1)) # 1/2\n",
        "    self.features4 = nn.Sequential(conv_relu(256, 512, 3, 1),\n",
        "                                   conv_relu(512, 512, 3, 1),\n",
        "                                   conv_relu(512, 512, 3, 1),\n",
        "                                   nn.MaxPool2d(3, stride=1, padding=1)) # 원본이미지 사이즈 그대로 유지\n",
        "    self.features5 = nn.Sequential(conv_relu(512, 512, 3, rate=2), # dilated rate 2 적용 ,(padding도 2 같이 적용, dilated rate만큼 padding도 같이 적용해줘야지 원본 이미지 사이즈 유지됨)\n",
        "                                   conv_relu(512, 512, 3, rate=2),\n",
        "                                   conv_relu(512, 512, 3, rate=2),\n",
        "                                   nn.MaxPool2d(3, stride=1, padding=1), \n",
        "                                   nn.AvgPool2d(3, stride=1, padding=1)) # 마지막 stride=1로 해서 두 layer 크기 유지 \n",
        "  def forward(self, x):\n",
        "    out = self.features1(x)\n",
        "    out = self.features2(out)\n",
        "    out = self.features3(out)\n",
        "    out = self.features4(out)\n",
        "    out = self.features5(out)\n",
        "    return out\n",
        "\n",
        "class classifier(nn.Module):\n",
        "    def __init__(self, num_classes): \n",
        "        super(classifier, self).__init__()\n",
        "        self.classifier = nn.Sequential(conv_relu(512, 1024, 3, rate=12), \n",
        "                                       nn.Dropout2d(0.5), \n",
        "                                       conv_relu(1024, 1024, 1, 1), \n",
        "                                       nn.Dropout2d(0.5), \n",
        "                                       nn.Conv2d(1024, num_classes, 1)\n",
        "                                       )\n",
        "    def forward(self, x): \n",
        "        out = self.classifier(x)\n",
        "        return out \n",
        "\n",
        "class DeepLabV1(nn.Module):\n",
        "    def __init__(self, backbone, classifier, upsampling=8):\n",
        "        super(DeepLabV1, self).__init__()\n",
        "        self.backbone = backbone\n",
        "        self.classifier = classifier\n",
        "        self.upsampling = upsampling\n",
        "\n",
        "    def forward(self, x):\n",
        "        x = self.backbone(x)\n",
        "        _, _, feature_map_h, feature_map_w = x.size()\n",
        "        x = self.classifier(x)\n",
        "        out = F.interpolate(x, size=(feature_map_h * self.upsampling, feature_map_w * self.upsampling), mode=\"bilinear\")\n",
        "        return out"
      ]
    },
    {
      "cell_type": "markdown",
      "source": [
        ""
      ],
      "metadata": {
        "id": "JvRyDDhl-uAg"
      }
    },
    {
      "cell_type": "code",
      "source": [
        "device= 'cuda' if torch.cuda.is_available() else 'cpu'\n",
        "\n",
        "# 구현된 model에 임의의 input을 넣어 output이 잘 나오는지 test\n",
        "backbone = VGG16()\n",
        "classifier = classifier(num_classes=12)\n",
        "model = DeepLabV1(backbone=backbone, classifier=classifier)\n",
        "\n",
        "x = torch.randn([1, 3, 512, 512])\n",
        "print(\"input shape : \", x.shape)\n",
        "out = model(x).to(device)\n",
        "print(\"output shape : \", out.size())\n",
        "\n",
        "model = model.to(device)"
      ],
      "metadata": {
        "colab": {
          "base_uri": "https://localhost:8080/"
        },
        "id": "zjQN11wk-MNW",
        "outputId": "b891e79c-b4ee-45d3-ea12-35c942273db5"
      },
      "execution_count": 5,
      "outputs": [
        {
          "output_type": "stream",
          "name": "stdout",
          "text": [
            "input shape :  torch.Size([1, 3, 512, 512])\n",
            "output shape :  torch.Size([1, 12, 512, 512])\n"
          ]
        }
      ]
    },
    {
      "cell_type": "code",
      "source": [
        ""
      ],
      "metadata": {
        "id": "8Vv5yh2N-VdU"
      },
      "execution_count": null,
      "outputs": []
    },
    {
      "cell_type": "markdown",
      "source": [
        ""
      ],
      "metadata": {
        "id": "HNO9OTvL-s8z"
      }
    }
  ]
}