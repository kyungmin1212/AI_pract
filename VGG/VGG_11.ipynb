{
  "nbformat": 4,
  "nbformat_minor": 0,
  "metadata": {
    "colab": {
      "name": "VGG-11.ipynb",
      "provenance": []
    },
    "kernelspec": {
      "name": "python3",
      "display_name": "Python 3"
    },
    "language_info": {
      "name": "python"
    }
  },
  "cells": [
    {
      "cell_type": "code",
      "execution_count": 1,
      "metadata": {
        "id": "yYQGK5XBnlHR"
      },
      "outputs": [],
      "source": [
        "# Seed\n",
        "import torch\n",
        "import numpy as np\n",
        "import random\n",
        "\n",
        "torch.manual_seed(0)\n",
        "torch.cuda.manual_seed(0)\n",
        "np.random.seed(0)\n",
        "random.seed(0)\n",
        "\n",
        "# Ignore warnings\n",
        "import warnings\n",
        "warnings.filterwarnings('ignore')"
      ]
    },
    {
      "cell_type": "code",
      "source": [
        "import torch\n",
        "import torch.nn as nn\n",
        "\n",
        "class VGG11(nn.Module):\n",
        "  def __init__(self,num_classes=1000):\n",
        "    super(VGG11,self).__init__()\n",
        "\n",
        "    self.relu = nn.ReLU(inplace=True)\n",
        "\n",
        "    self.conv1 = nn.Conv2d(3,64,kernel_size=3,padding=1) # 3채널 input -> 64채널 output\n",
        "    self.bn1 = nn.BatchNorm2d(64)\n",
        "    self.pool1 = nn.MaxPool2d(kernel_size=2,stride=2) # 공간(spatial)정보가 가로 세로 1/2배씩 크기가 줄어듬\n",
        "\n",
        "    self.conv2 = nn.Conv2d(64,128,kernel_size=3,padding=1)\n",
        "    self.bn2 = nn.BatchNorm2d(128)\n",
        "    self.pool2 = nn.MaxPool2d(kernel_size=2,stride=2)\n",
        "\n",
        "    self.conv3_1 = nn.Conv2d(128,256,kernel_size=3,padding=1)\n",
        "    self.bn3_1 = nn.BatchNorm2d(256)\n",
        "    self.conv3_2 = nn.Conv2d(256,256,kernel_size=3,padding=1)\n",
        "    self.bn3_2 = nn.BatchNorm2d(256)\n",
        "    self.pool3 = nn.MaxPool2d(kernel_size=2,stride=2)\n",
        "\n",
        "    self.conv4_1 = nn.Conv2d(256,512,kernel_size=3,padding=1)\n",
        "    self.bn4_1 = nn.BatchNorm2d(512)\n",
        "    self.conv4_2 = nn.Conv2d(512,512,kernel_size=3,padding=1)\n",
        "    self.bn4_2 = nn.BatchNorm2d(512)\n",
        "    self.pool4 = nn.MaxPool2d(kernel_size=2,stride=2)\n",
        "\n",
        "    self.conv5_1 = nn.Conv2d(512,512,kernel_size=3,padding=1)\n",
        "    self.bn5_1 = nn.BatchNorm2d(512)\n",
        "    self.conv5_2 = nn.Conv2d(512,512,kernel_size=3,padding=1)\n",
        "    self.bn5_2 = nn.BatchNorm2d(512)\n",
        "    self.pool5 = nn.MaxPool2d(kernel_size=2,stride=2)\n",
        "\n",
        "    self.fc1 = nn.Linear(512*7*7,4096) # 채널이 512 , 입력 이미지 사이즈 224x224 -> 7x7 (maxpooling이 5번 적용되었으므로)\n",
        "    self.dropout1 = nn.Dropout() # 기본 p=0.5\n",
        "\n",
        "    self.fc2 = nn.Linear(4096,4096)\n",
        "    self.dropout2 = nn.Dropout()\n",
        "\n",
        "    self.fc3 = nn.Linear(4096,num_classes)\n",
        "  \n",
        "  def forward(self,x):\n",
        "    x = self.conv1(x)\n",
        "    x = self.bn1(x)\n",
        "    x = self.relu(x)\n",
        "    x = self.pool1(x)\n",
        "\n",
        "    x = self.conv2(x)\n",
        "    x = self.bn2(x)\n",
        "    x = self.relu(x)\n",
        "    x = self.pool2(x) \n",
        "\n",
        "    x = self.conv3_1(x)\n",
        "    x = self.bn3_1(x)\n",
        "    x = self.relu(x) # 활성화 함수 이전에는 bn 필수\n",
        "    x = self.conv3_2(x)\n",
        "    x = self.bn3_2(x)\n",
        "    x = self.relu(x)\n",
        "    x = self.pool3(x)\n",
        "\n",
        "    x = self.conv4_1(x)\n",
        "    x = self.bn4_1(x)\n",
        "    x = self.relu(x)\n",
        "    x = self.conv4_2(x)\n",
        "    x = self.bn4_2(x)\n",
        "    x = self.relu(x)\n",
        "    x = self.pool4(x)\n",
        "\n",
        "    x = self.conv5_1(x)\n",
        "    x = self.bn5_1(x)\n",
        "    x = self.relu(x)\n",
        "    x = self.conv5_2(x)\n",
        "    x = self.bn5_2(x)\n",
        "    x = self.relu(x)\n",
        "    x = self.pool5(x)    \n",
        "\n",
        "    x = torch.flatten(x,1)\n",
        "    x = self.fc1(x)\n",
        "    x = self.relu(x)\n",
        "    x = self.dropout1(x)\n",
        "\n",
        "    x = self.fc2(x)\n",
        "    x = self.relu(x)\n",
        "    x = self.dropout2(x)\n",
        "\n",
        "    x = self.fc3(x)\n",
        "    return x\n",
        "    "
      ],
      "metadata": {
        "id": "RLwrK1tjn2d4"
      },
      "execution_count": 15,
      "outputs": []
    },
    {
      "cell_type": "code",
      "source": [
        "model = VGG11(num_classes=1000)\n",
        "\n",
        "x = torch.randn((5,3,224,224)) # 배치수, 채널 ,w ,h\n",
        "\n",
        "out = model(x)\n",
        "\n",
        "print(out.shape)"
      ],
      "metadata": {
        "colab": {
          "base_uri": "https://localhost:8080/"
        },
        "id": "NiDPul5UwdC3",
        "outputId": "2e1ff076-276d-4ec2-9ba8-c0d6499591e4"
      },
      "execution_count": 16,
      "outputs": [
        {
          "output_type": "stream",
          "name": "stdout",
          "text": [
            "torch.Size([5, 1000])\n"
          ]
        }
      ]
    },
    {
      "cell_type": "code",
      "source": [
        "# Torchvision 을 통한 pretrained 모델 사용\n",
        "import torchvision.models as models\n",
        "\n",
        "model_1 = VGG11(num_classes=1000) # 내가 만든 모델\n",
        "model_2 = models.vgg11(pretrained=True) # torchvision.models 모델\n",
        "\n",
        "print(model_1)\n",
        "print(model_2)"
      ],
      "metadata": {
        "colab": {
          "base_uri": "https://localhost:8080/"
        },
        "id": "vJF31_tLwrBs",
        "outputId": "4c078ca5-3cc1-4d88-bfbc-011e2b309e7d"
      },
      "execution_count": 19,
      "outputs": [
        {
          "output_type": "stream",
          "name": "stdout",
          "text": [
            "VGG11(\n",
            "  (relu): ReLU(inplace=True)\n",
            "  (conv1): Conv2d(3, 64, kernel_size=(3, 3), stride=(1, 1), padding=(1, 1))\n",
            "  (bn1): BatchNorm2d(64, eps=1e-05, momentum=0.1, affine=True, track_running_stats=True)\n",
            "  (pool1): MaxPool2d(kernel_size=2, stride=2, padding=0, dilation=1, ceil_mode=False)\n",
            "  (conv2): Conv2d(64, 128, kernel_size=(3, 3), stride=(1, 1), padding=(1, 1))\n",
            "  (bn2): BatchNorm2d(128, eps=1e-05, momentum=0.1, affine=True, track_running_stats=True)\n",
            "  (pool2): MaxPool2d(kernel_size=2, stride=2, padding=0, dilation=1, ceil_mode=False)\n",
            "  (conv3_1): Conv2d(128, 256, kernel_size=(3, 3), stride=(1, 1), padding=(1, 1))\n",
            "  (bn3_1): BatchNorm2d(256, eps=1e-05, momentum=0.1, affine=True, track_running_stats=True)\n",
            "  (conv3_2): Conv2d(256, 256, kernel_size=(3, 3), stride=(1, 1), padding=(1, 1))\n",
            "  (bn3_2): BatchNorm2d(256, eps=1e-05, momentum=0.1, affine=True, track_running_stats=True)\n",
            "  (pool3): MaxPool2d(kernel_size=2, stride=2, padding=0, dilation=1, ceil_mode=False)\n",
            "  (conv4_1): Conv2d(256, 512, kernel_size=(3, 3), stride=(1, 1), padding=(1, 1))\n",
            "  (bn4_1): BatchNorm2d(512, eps=1e-05, momentum=0.1, affine=True, track_running_stats=True)\n",
            "  (conv4_2): Conv2d(512, 512, kernel_size=(3, 3), stride=(1, 1), padding=(1, 1))\n",
            "  (bn4_2): BatchNorm2d(512, eps=1e-05, momentum=0.1, affine=True, track_running_stats=True)\n",
            "  (pool4): MaxPool2d(kernel_size=2, stride=2, padding=0, dilation=1, ceil_mode=False)\n",
            "  (conv5_1): Conv2d(512, 512, kernel_size=(3, 3), stride=(1, 1), padding=(1, 1))\n",
            "  (bn5_1): BatchNorm2d(512, eps=1e-05, momentum=0.1, affine=True, track_running_stats=True)\n",
            "  (conv5_2): Conv2d(512, 512, kernel_size=(3, 3), stride=(1, 1), padding=(1, 1))\n",
            "  (bn5_2): BatchNorm2d(512, eps=1e-05, momentum=0.1, affine=True, track_running_stats=True)\n",
            "  (pool5): MaxPool2d(kernel_size=2, stride=2, padding=0, dilation=1, ceil_mode=False)\n",
            "  (fc1): Linear(in_features=25088, out_features=4096, bias=True)\n",
            "  (dropout1): Dropout(p=0.5, inplace=False)\n",
            "  (fc2): Linear(in_features=4096, out_features=4096, bias=True)\n",
            "  (dropout2): Dropout(p=0.5, inplace=False)\n",
            "  (fc3): Linear(in_features=4096, out_features=1000, bias=True)\n",
            ")\n",
            "VGG(\n",
            "  (features): Sequential(\n",
            "    (0): Conv2d(3, 64, kernel_size=(3, 3), stride=(1, 1), padding=(1, 1))\n",
            "    (1): ReLU(inplace=True)\n",
            "    (2): MaxPool2d(kernel_size=2, stride=2, padding=0, dilation=1, ceil_mode=False)\n",
            "    (3): Conv2d(64, 128, kernel_size=(3, 3), stride=(1, 1), padding=(1, 1))\n",
            "    (4): ReLU(inplace=True)\n",
            "    (5): MaxPool2d(kernel_size=2, stride=2, padding=0, dilation=1, ceil_mode=False)\n",
            "    (6): Conv2d(128, 256, kernel_size=(3, 3), stride=(1, 1), padding=(1, 1))\n",
            "    (7): ReLU(inplace=True)\n",
            "    (8): Conv2d(256, 256, kernel_size=(3, 3), stride=(1, 1), padding=(1, 1))\n",
            "    (9): ReLU(inplace=True)\n",
            "    (10): MaxPool2d(kernel_size=2, stride=2, padding=0, dilation=1, ceil_mode=False)\n",
            "    (11): Conv2d(256, 512, kernel_size=(3, 3), stride=(1, 1), padding=(1, 1))\n",
            "    (12): ReLU(inplace=True)\n",
            "    (13): Conv2d(512, 512, kernel_size=(3, 3), stride=(1, 1), padding=(1, 1))\n",
            "    (14): ReLU(inplace=True)\n",
            "    (15): MaxPool2d(kernel_size=2, stride=2, padding=0, dilation=1, ceil_mode=False)\n",
            "    (16): Conv2d(512, 512, kernel_size=(3, 3), stride=(1, 1), padding=(1, 1))\n",
            "    (17): ReLU(inplace=True)\n",
            "    (18): Conv2d(512, 512, kernel_size=(3, 3), stride=(1, 1), padding=(1, 1))\n",
            "    (19): ReLU(inplace=True)\n",
            "    (20): MaxPool2d(kernel_size=2, stride=2, padding=0, dilation=1, ceil_mode=False)\n",
            "  )\n",
            "  (avgpool): AdaptiveAvgPool2d(output_size=(7, 7))\n",
            "  (classifier): Sequential(\n",
            "    (0): Linear(in_features=25088, out_features=4096, bias=True)\n",
            "    (1): ReLU(inplace=True)\n",
            "    (2): Dropout(p=0.5, inplace=False)\n",
            "    (3): Linear(in_features=4096, out_features=4096, bias=True)\n",
            "    (4): ReLU(inplace=True)\n",
            "    (5): Dropout(p=0.5, inplace=False)\n",
            "    (6): Linear(in_features=4096, out_features=1000, bias=True)\n",
            "  )\n",
            ")\n"
          ]
        }
      ]
    },
    {
      "cell_type": "code",
      "source": [
        ""
      ],
      "metadata": {
        "id": "8vFjugHvzAK6"
      },
      "execution_count": null,
      "outputs": []
    }
  ]
}